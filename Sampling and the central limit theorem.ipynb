{
 "cells": [
  {
   "cell_type": "code",
   "execution_count": 1,
   "metadata": {},
   "outputs": [],
   "source": [
    "import numpy as np\n",
    "import pandas as pd\n",
    "import scipy\n",
    "import matplotlib.pyplot as plt\n",
    "%matplotlib inline"
   ]
  },
  {
   "cell_type": "markdown",
   "metadata": {},
   "source": [
    "Create two binomially distributed populations with `n` equal to `10` and size equal to `10000`. The p-value of `pop1` should be `0.2` and the p-value of `pop2` should be `0.5`. Using a sample size of `100`, calculate the means and standard deviations of your samples."
   ]
  },
  {
   "cell_type": "code",
   "execution_count": 48,
   "metadata": {},
   "outputs": [
    {
     "name": "stdout",
     "output_type": "stream",
     "text": [
      "The mean of Population 1 is: 1.9921\n",
      "The mean of Population 2 is: 5.0106\n",
      "The standard deviation of Population 1 is: 1.2641351154049951\n",
      "The standard deviation of Population 2 is: 1.5805972415514333\n",
      "The difference between the populations means is: 3.0185000000000004\n"
     ]
    }
   ],
   "source": [
    "# Creating the populations\n",
    "pop1 = np.random.binomial(10, 0.2, 10000)\n",
    "pop2 = np.random.binomial(10, 0.5, 10000)\n",
    "\n",
    "print('The mean of Population 1 is: {}'.format(pop1.mean()))\n",
    "print('The mean of Population 2 is: {}'.format(pop2.mean()))\n",
    "print('The standard deviation of Population 1 is: {}'.format(pop1.std()))\n",
    "print('The standard deviation of Population 2 is: {}'.format(pop2.std()))\n",
    "diff = pop2.mean() - pop1.mean()\n",
    "print('The difference between the populations means is: {}'.format(diff))\n",
    "# Sampling the populations\n",
    "\n",
    "sample1 = np.random.choice(pop1, 100, replace=True)\n",
    "sample2 = np.random.choice(pop2, 100, replace=True)"
   ]
  },
  {
   "cell_type": "code",
   "execution_count": 41,
   "metadata": {},
   "outputs": [
    {
     "name": "stdout",
     "output_type": "stream",
     "text": [
      "The mean of Sample 1 is: 2.03\n",
      "The mean of Sample 2 is: 4.86\n",
      "The standard deviation of of Sample 1 is: 1.322535443759448\n",
      "The standard deviation of of Sample 2 is: 1.503462669972221\n",
      "The difference between the sample means is: 2.8300000000000005\n"
     ]
    }
   ],
   "source": [
    "print('The mean of Sample 1 is: {}'.format(np.mean(sample1)))\n",
    "print('The mean of Sample 2 is: {}'.format(np.mean(sample2)))\n",
    "print('The standard deviation of of Sample 1 is: {}'.format(np.std(sample1)))\n",
    "print('The standard deviation of of Sample 2 is: {}'.format(np.std(sample2)))\n",
    "diff = sample2.mean() - sample1.mean()\n",
    "print('The difference between the sample means is: {}'.format(diff))\n"
   ]
  },
  {
   "cell_type": "markdown",
   "metadata": {},
   "source": [
    " 1. Increase the size of your samples from 100 to 1000, then calculate the means and standard deviations for your new samples and create histograms for each.  Repeat this again, decreasing the size of your samples to 20.  What values change, and what remain the same?"
   ]
  },
  {
   "cell_type": "code",
   "execution_count": 47,
   "metadata": {},
   "outputs": [
    {
     "name": "stdout",
     "output_type": "stream",
     "text": [
      "The mean of Sample 1 is now: 1.967\n",
      "The mean of Sample 2 is now: 5.026\n",
      "The standard deviation of of Sample 1 is now: 1.2449542160256337\n",
      "The standard deviation of of Sample 2 is now: 1.5663090371954058\n",
      "The difference between the sample means is: 3.0589999999999997\n"
     ]
    },
    {
     "data": {
      "image/png": "[encoded data removed]",
      "text/plain": [
       "<Figure size 432x288 with 1 Axes>"
      ]
     },
     "metadata": {
      "needs_background": "light"
     },
     "output_type": "display_data"
    }
   ],
   "source": [
    "# Sample sizes of 100\n",
    "sample1 = np.random.choice(pop1, 1000, replace=True)\n",
    "sample2 = np.random.choice(pop2, 1000, replace=True)\n",
    "\n",
    "print('The mean of Sample 1 is now: {}'.format(np.mean(sample1)))\n",
    "print('The mean of Sample 2 is now: {}'.format(np.mean(sample2)))\n",
    "print('The standard deviation of of Sample 1 is now: {}'.format(np.std(sample1)))\n",
    "print('The standard deviation of of Sample 2 is now: {}'.format(np.std(sample2)))\n",
    "diff = sample2.mean() - sample1.mean()\n",
    "print('The difference between the sample means is: {}'.format(diff))\n",
    "\n",
    "plt.hist(sample1, alpha=0.5, label='sample1')\n",
    "plt.hist(sample2, alpha=0.5, label='sample2')\n",
    "plt.legend(loc='upper right')\n",
    "plt.show()"
   ]
  },
  {
   "cell_type": "code",
   "execution_count": 50,
   "metadata": {},
   "outputs": [
    {
     "name": "stdout",
     "output_type": "stream",
     "text": [
      "The mean of Sample 1 is now: 1.95\n",
      "The mean of Sample 2 is now: 4.8\n",
      "The standard deviation of of Sample 1 is now: 1.3219304066402284\n",
      "The standard deviation of of Sample 2 is now: 1.630950643030009\n",
      "The difference between the sample means is: 2.8499999999999996\n"
     ]
    },
    {
     "data": {
      "image/png": "[encoded data removed]",
      "text/plain": [
       "<Figure size 432x288 with 1 Axes>"
      ]
     },
     "metadata": {
      "needs_background": "light"
     },
     "output_type": "display_data"
    }
   ],
   "source": [
    "# Sample sizes of 20\n",
    "sample1 = np.random.choice(pop1, 20, replace=True)\n",
    "sample2 = np.random.choice(pop2, 20, replace=True)\n",
    "\n",
    "print('The mean of Sample 1 is now: {}'.format(np.mean(sample1)))\n",
    "print('The mean of Sample 2 is now: {}'.format(np.mean(sample2)))\n",
    "print('The standard deviation of of Sample 1 is now: {}'.format(np.std(sample1)))\n",
    "print('The standard deviation of of Sample 2 is now: {}'.format(np.std(sample2)))\n",
    "diff = sample2.mean() - sample1.mean()\n",
    "print('The difference between the sample means is: {}'.format(diff))\n",
    "\n",
    "plt.hist(sample1, alpha=0.5, label='sample1')\n",
    "plt.hist(sample2, alpha=0.5, label='sample2')\n",
    "plt.legend(loc='upper right')\n",
    "plt.show()"
   ]
  },
  {
   "cell_type": "markdown",
   "metadata": {},
   "source": [
    "2. Change the probability value (`p` in the [NumPy documentation](https://docs.scipy.org/doc/numpy/reference/generated/numpy.random.binomial.html)) for `pop1` to 0.3, then take new samples and compute the t-statistic and p-value.  Then change the probability value p for group 1 to 0.4, and do it again.  What changes, and why?"
   ]
  },
  {
   "cell_type": "code",
   "execution_count": 51,
   "metadata": {},
   "outputs": [
    {
     "name": "stdout",
     "output_type": "stream",
     "text": [
      "Ttest_indResult(statistic=10.236258565197994, pvalue=5.622798264933782e-20)\n"
     ]
    }
   ],
   "source": [
    "# Setting pop1 p-value = 0.3\n",
    "\n",
    "pop1 = np.random.binomial(10, 0.3, 10000)\n",
    "pop2 = np.random.binomial(10, 0.5, 10000)\n",
    "\n",
    "sample1 = np.random.choice(pop1, 100, replace=True)\n",
    "sample2 = np.random.choice(pop2, 100, replace=True)\n",
    "\n",
    "from scipy.stats import ttest_ind\n",
    "print(ttest_ind(sample2, sample1, equal_var=False))"
   ]
  },
  {
   "cell_type": "code",
   "execution_count": 52,
   "metadata": {},
   "outputs": [
    {
     "name": "stdout",
     "output_type": "stream",
     "text": [
      "Ttest_indResult(statistic=3.4652685687215175, pvalue=0.0006496697044469917)\n"
     ]
    }
   ],
   "source": [
    "# Setting pop2 p-value = 0.4\n",
    "\n",
    "pop1 = np.random.binomial(10, 0.4, 10000)\n",
    "pop2 = np.random.binomial(10, 0.5, 10000)\n",
    "\n",
    "sample1 = np.random.choice(pop1, 100, replace=True)\n",
    "sample2 = np.random.choice(pop2, 100, replace=True)\n",
    "\n",
    "from scipy.stats import ttest_ind\n",
    "print(ttest_ind(sample2, sample1, equal_var=False))"
   ]
  },
  {
   "cell_type": "markdown",
   "metadata": {},
   "source": [
    "As the probability increases from 0.3 to 0.4, the samples become more similar. The t-statistic decreases  and p-value increases"
   ]
  },
  {
   "cell_type": "markdown",
   "metadata": {},
   "source": [
    " 3. Change the distribution of your populations from binomial to a distribution of your choice.  Do the sample mean values still accurately represent the population values?"
   ]
  },
  {
   "cell_type": "code",
   "execution_count": 55,
   "metadata": {},
   "outputs": [],
   "source": [
    "# The Central Limit Theorem says the statistics should still work as long as the sample size is large enough, \n",
    "# no matter what distribution is chosen\n",
    "\n"
   ]
  },
  {
   "cell_type": "code",
   "execution_count": null,
   "metadata": {},
   "outputs": [],
   "source": []
  }
 ],
 "metadata": {
  "kernelspec": {
   "display_name": "Python 3",
   "language": "python",
   "name": "python3"
  },
  "language_info": {
   "codemirror_mode": {
    "name": "ipython",
    "version": 3
   },
   "file_extension": ".py",
   "mimetype": "text/x-python",
   "name": "python",
   "nbconvert_exporter": "python",
   "pygments_lexer": "ipython3",
   "version": "3.7.2"
  }
 },
 "nbformat": 4,
 "nbformat_minor": 2
}
